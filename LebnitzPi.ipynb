{
  "nbformat": 4,
  "nbformat_minor": 0,
  "metadata": {
    "colab": {
      "provenance": []
    },
    "kernelspec": {
      "name": "python3",
      "display_name": "Python 3"
    },
    "language_info": {
      "name": "python"
    }
  },
  "cells": [
    {
      "cell_type": "code",
      "execution_count": 1,
      "metadata": {
        "id": "sTf6LVLDGox-",
        "colab": {
          "base_uri": "https://localhost:8080/"
        },
        "outputId": "515a90ec-71b8-42d0-cc6a-424680380556"
      },
      "outputs": [
        {
          "output_type": "stream",
          "name": "stdout",
          "text": [
            "\n",
            " Obliczenie liczny pi ze wzoru leibniza\n",
            "wartosc liczby pi ze wzoru Leibnitza = 3.167229\n",
            "-0.013333 :  -0.052632 :  0.034483 :  -0.015873 :  0.027027 :  0.047619 :  -0.018182 :  0.014493 :  0.022222 :  0.040000 :  -0.023256 :  -0.028571 :  0.024390 :  -0.142857 :  0.012987 :  -0.016949 :  -0.066667 :  0.030303 :  1.000000 :  0.058824 :  -0.043478 :  -0.019608 :  0.017544 :  -0.025641 :  0.016393 :  0.200000 :  0.111111 :  -0.090909 :  -0.014925 :  -0.037037 :  -0.032258 :  0.015385 :  -0.021277 :  0.020408 :  0.013699 :  0.076923 :  -0.014085 :  -0.333333 :  0.018868 :  "
          ]
        }
      ],
      "source": [
        "%%sh\n",
        "cat > pi-mpi.c <<EOF\n",
        "#include <mpi.h>\n",
        "#include <stdio.h>\n",
        "#include<math.h> \n",
        "\n",
        "// Leibniz \n",
        "\n",
        "double potega(double podstawa , int wykladnik ){\n",
        "  \tdouble wynik=1.0;\n",
        "  for (int i = 1; i <= wykladnik; i++)\n",
        "    {\n",
        "        wynik*=podstawa;\n",
        "    }\n",
        "\n",
        "\n",
        "  return wynik ; \n",
        "}\n",
        "\n",
        "int main(int argc, char *argv[])\n",
        "{\n",
        "    //tworzenie zmiennych globalnych\n",
        "    int i,np,lp;\n",
        "    int tag=50;\n",
        "    MPI_Status status;\n",
        "    MPI_Init(&argc, &argv);\n",
        "    MPI_Comm_rank(MPI_COMM_WORLD, &np);\n",
        "    MPI_Comm_size(MPI_COMM_WORLD, &lp);\n",
        "    \n",
        "    //jesli proces ma numer 0 to:\n",
        "    if(np ==0)\n",
        "    {\n",
        "      //tworzenie zmiennych lokalnych\n",
        "      double pole = 0 ,s=0;\n",
        "      printf(\"\\n Obliczenie liczny pi ze wzoru leibniza\");\n",
        "   \n",
        "      //odbieranie oraz sumowanie wynikow z wszystkich procesow\n",
        "\n",
        "      for(i=1; i<lp; i++)\n",
        "      {\n",
        "        MPI_Recv(&s, 1, MPI_DOUBLE, i, tag, MPI_COMM_WORLD, &status);\n",
        "        pole +=s;\n",
        "      }\n",
        "\n",
        "      //wypisanie wartosci pola\n",
        "      printf(\"\\nwartosc liczby pi ze wzoru Leibnitza = %1f\\n\", 4 *  pole);\n",
        "    }\n",
        "\n",
        "    if(np != 0)\n",
        "    {\n",
        "      //tworzenie zmiennych lokalnych\n",
        "      double s1 = potega( -1 , np - 1   )   / ( 2 *  np - 1  )   ; \n",
        "      printf(\"%f :  \" , s1);\n",
        "      // s1 = 0;\n",
        "      //wysylanie liczby \n",
        "      MPI_Send(&s1, 1, MPI_DOUBLE, 0, tag, MPI_COMM_WORLD);\n",
        "    }\n",
        "    MPI_Finalize();\n",
        "}\n",
        "EOF\n",
        "mpicc pi-mpi.c && mpirun -n 40 --allow-run-as-root a.out\n",
        "\n",
        "\n"
      ]
    }
  ]
}